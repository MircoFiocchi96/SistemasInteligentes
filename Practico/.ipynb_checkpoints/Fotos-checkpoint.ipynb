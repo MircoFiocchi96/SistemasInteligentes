{
 "cells": [
  {
   "cell_type": "markdown",
   "metadata": {},
   "source": [
    "# Practico Redes Neuronales\n",
    "\n",
    "Librerias a usar:\n",
    "- tensorflow >= 1.13.1\n",
    "- tensorboard >= 1.13.1\n",
    "- keras >= 2.2.4\n",
    "- Pillow >= 6.0.0\n",
    "- scikit-learn >= 0.20.3\n",
    "\n",
    "## Ejercicio 1: Entrenamiento\n",
    "\n",
    "- Descargue y lea el paper [Using Artificial Intelligence to Predict the Equilibrated Postdialysis Blood Urea Concentration](https://drive.google.com/open?id=1TEcpoTI6mCEhvfpZv3Gp1GBr6uA0Erfg). Utilize redes neuronales para implementar el modelo propuesto en dicha publicacion. Utilice los siguientes [datos](https://drive.google.com/open?id=17bIDVoixcTlUv2JaCDRBRsU1g-WPwnBj) para el entrenamiento. Ayuda: [Tutorial Keras](https://keras.io/getting-started/sequential-model-guide/#examples).\n",
    "- Si bien se presenta e intenta resolver un problema de regresion, podemos convertirlo en clasificacion utilizando Ueq > 35 como punto de corte. Genere dicha conversion de datos, asignandoles la clase 0 para Ueq < 35 y 1 en caso contrario. Entrene una red de clasificacion.\n",
    "\n",
    "## Ejercicio 2: Extraccion de caracteristicas\n",
    "\n",
    "- Descargue el dataset **[pets](https://drive.google.com/open?id=1JyuO-CNruuUdj14SW4s1RExBa3gMhjBi)** con imagenes de gatos y perros.\n",
    "- Revise y elija dos redes convolucionales pre-entrenadas en *imagenet* de la [pagina](https://keras.io/applications/) de modelos de Keras.\n",
    "- Genere dos bases de datos con vectores de caracteristicas (features) extraidos utilizando los modelos elegidos en el dataset de mascotas.\n",
    "    - Tip 1: NO cargue cada imagen introduciendo a mano la ruta a el archivo. Utilice Python para iterar por todo el dataset y cargar los archivos.\n",
    "    - Tip 2: Recuerde que cada modelo requiere antes un pre-procesamiento de las imagenes.\n",
    "    - Tip 3: Si carga las imagenes con OpenCV estaran en formato BGR, Keras por defecto usa RGB, recuerde convertir los canales de color.\n",
    "- Entrene una red neuronal para cada dataset con el objetivo de clasificar entre perros y gatos. Compare los resultados obtenidos entre ambas bases de datos en terminos de accuracy pero tambien en velocidad (que modelo de extraccion de features es mas rapido?).\n"
   ]
  },
  {
   "cell_type": "code",
   "execution_count": 3,
   "metadata": {},
   "outputs": [
    {
     "name": "stderr",
     "output_type": "stream",
     "text": [
      "Using TensorFlow backend.\n"
     ]
    }
   ],
   "source": [
    "import numpy as np \n",
    "from scipy import misc  \n",
    "from PIL import Image  \n",
    "import glob  \n",
    "import matplotlib.pyplot as plt  \n",
    "import scipy.misc  \n",
    "from matplotlib.pyplot import imshow  \n",
    "%matplotlib inline\n",
    "from IPython.display import SVG  \n",
    "import cv2  \n",
    "import seaborn as sn  \n",
    "import pandas as pd  \n",
    "import pickle  \n",
    "from keras import layers  \n",
    "from keras.layers import Flatten, Input, Add, Dense, Activation, ZeroPadding2D, BatchNormalization, Flatten, Conv2D, AveragePooling2D, MaxPooling2D, GlobalMaxPooling2D, Dropout  \n",
    "from keras.models import Sequential, Model, load_model  \n",
    "from keras.preprocessing import image  \n",
    "from keras.preprocessing.image import load_img  \n",
    "from keras.preprocessing.image import img_to_array  \n",
    "from keras.applications.imagenet_utils import decode_predictions  \n",
    "from keras.utils import layer_utils, np_utils  \n",
    "from keras.utils.data_utils import get_file  \n",
    "from keras.applications.imagenet_utils import preprocess_input  \n",
    "from keras.utils.vis_utils import model_to_dot  \n",
    "from keras.utils import plot_model  \n",
    "from keras.initializers import glorot_uniform  \n",
    "from keras import losses  \n",
    "import keras.backend as K  \n",
    "from keras.callbacks import ModelCheckpoint  \n",
    "from sklearn.metrics import confusion_matrix, classification_report  \n",
    "import tensorflow as tf  "
   ]
  },
  {
   "cell_type": "code",
   "execution_count": null,
   "metadata": {},
   "outputs": [],
   "source": []
  }
 ],
 "metadata": {
  "kernelspec": {
   "display_name": "Python 3",
   "language": "python",
   "name": "python3"
  },
  "language_info": {
   "codemirror_mode": {
    "name": "ipython",
    "version": 3
   },
   "file_extension": ".py",
   "mimetype": "text/x-python",
   "name": "python",
   "nbconvert_exporter": "python",
   "pygments_lexer": "ipython3",
   "version": "3.6.7"
  }
 },
 "nbformat": 4,
 "nbformat_minor": 2
}
