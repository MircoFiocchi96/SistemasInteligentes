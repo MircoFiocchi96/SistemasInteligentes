{
 "cells": [
  {
   "cell_type": "markdown",
   "metadata": {},
   "source": [
    "# Practico\n",
    "\n",
    "## 1) Filtros\n",
    "\n",
    "Cargue las imagenes `flower_0.05_noisy.jpg` y `bridge_0.05_noisy.jpg`. Aplique los distintos tipos de filtros que vimos para intentar mejorar la imagen con ruido.\n",
    "\n",
    "- Que ocurre con un kernel mas grande? o mas chico?\n",
    "- Podriamos usar kernels no cuadrados, ej. (3, 5)?\n",
    "\n",
    "## 2) Escalado\n",
    "\n",
    "Utilizando las imagenes anteriores, aumente el tamaño de cada imagen al doble y triple de su tamaño original. Ahora reduzca el tamaño de las imagenes originales a la mitad.\n",
    "\n",
    "- Cual metodo de escalado retorna los mejores resultados en cada caso?\n",
    "\n",
    "## 3) Transformaciones Geométricas\n",
    "\n",
    "Cargue la imagen `dl_book.jpg`. Encuentre la manera de:\n",
    "\n",
    "- Rotar la imagen con OpenCV para dejarla en la posición correcta.\n",
    "- Alinear los marcos del libro para obtener una perspectiva totalmente frontal de este. Ayuda: Para obtener los puntos de alineación puede usar `matplotlib` u `OpenCV` para visualizar la imagen, en este visualizador usted puede mover el cursor sobre la fotografia y ver las coordenadas en las que se encuentra.\n"
   ]
  },
  {
   "cell_type": "code",
   "execution_count": null,
   "metadata": {},
   "outputs": [],
   "source": [
    "import "
   ]
  }
 ],
 "metadata": {
  "kernelspec": {
   "display_name": "Python 3",
   "language": "python",
   "name": "python3"
  },
  "language_info": {
   "codemirror_mode": {
    "name": "ipython",
    "version": 3
   },
   "file_extension": ".py",
   "mimetype": "text/x-python",
   "name": "python",
   "nbconvert_exporter": "python",
   "pygments_lexer": "ipython3",
   "version": "3.6.7"
  }
 },
 "nbformat": 4,
 "nbformat_minor": 2
}
