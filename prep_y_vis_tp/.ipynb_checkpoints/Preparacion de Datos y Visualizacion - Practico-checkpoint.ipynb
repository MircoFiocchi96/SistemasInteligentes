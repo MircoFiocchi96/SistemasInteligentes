{
 "cells": [
  {
   "cell_type": "markdown",
   "metadata": {},
   "source": [
    "# Realizar todos los ejercicios en este notebook"
   ]
  },
  {
   "cell_type": "code",
   "execution_count": 2,
   "metadata": {},
   "outputs": [
    {
     "ename": "AttributeError",
     "evalue": "module 'pandas' has no attribute 'read'",
     "output_type": "error",
     "traceback": [
      "\u001b[0;31m---------------------------------------------------------------------------\u001b[0m",
      "\u001b[0;31mAttributeError\u001b[0m                            Traceback (most recent call last)",
      "\u001b[0;32m<ipython-input-2-fa4342eabc23>\u001b[0m in \u001b[0;36m<module>\u001b[0;34m\u001b[0m\n\u001b[1;32m      9\u001b[0m \u001b[0mmatplotlib\u001b[0m\u001b[0;34m.\u001b[0m\u001b[0mrcParams\u001b[0m\u001b[0;34m[\u001b[0m\u001b[0;34m'figure.figsize'\u001b[0m\u001b[0;34m]\u001b[0m \u001b[0;34m=\u001b[0m \u001b[0;36m12\u001b[0m\u001b[0;34m,\u001b[0m \u001b[0;36m12\u001b[0m\u001b[0;34m\u001b[0m\u001b[0;34m\u001b[0m\u001b[0m\n\u001b[1;32m     10\u001b[0m \u001b[0;34m\u001b[0m\u001b[0m\n\u001b[0;32m---> 11\u001b[0;31m \u001b[0mdata\u001b[0m\u001b[0;34m=\u001b[0m\u001b[0mpd\u001b[0m\u001b[0;34m.\u001b[0m\u001b[0mread\u001b[0m\u001b[0;34m.\u001b[0m\u001b[0mread_csv\u001b[0m\u001b[0;34m(\u001b[0m\u001b[0;34m)\u001b[0m\u001b[0;34m\u001b[0m\u001b[0;34m\u001b[0m\u001b[0m\n\u001b[0m",
      "\u001b[0;31mAttributeError\u001b[0m: module 'pandas' has no attribute 'read'"
     ]
    }
   ],
   "source": [
    "%matplotlib inline\n",
    "\n",
    "import numpy as np\n",
    "import cv2\n",
    "import pandas as pd\n",
    "import matplotlib.pyplot as plt\n",
    "\n",
    "import matplotlib\n",
    "matplotlib.rcParams['figure.figsize'] = 12, 12\n",
    "\n",
    "data=pd.read.read_csv()"
   ]
  },
  {
   "cell_type": "markdown",
   "metadata": {},
   "source": [
    "## Carga de datos\n",
    "\n",
    "1. Cargar el csv **iris.csv** con pandas (Ayuda: `pd.read_csv`).\n",
    "2. Cuantas filas y columnas tengo.\n",
    "3. Existen valores nulos en mis datos? Si existen eliminar la fila (Ayuda: `isnull().values.any()`).\n",
    "4. Cuantas filas me quedan luego de limpiar el dataset.\n",
    "5. Un investigador del laboratorio tiene la hipotesis de que hubo un error en los datos y las columnas **sepal_length** y **petal_length** tienen los mismos valores. Como podemos checkear esto? (Ayuda: usar `any()`)."
   ]
  },
  {
   "cell_type": "code",
   "execution_count": 1,
   "metadata": {},
   "outputs": [
    {
     "ename": "NameError",
     "evalue": "name 'pd' is not defined",
     "output_type": "error",
     "traceback": [
      "\u001b[0;31m---------------------------------------------------------------------------\u001b[0m",
      "\u001b[0;31mNameError\u001b[0m                                 Traceback (most recent call last)",
      "\u001b[0;32m<ipython-input-1-206dd07848a9>\u001b[0m in \u001b[0;36m<module>\u001b[0;34m\u001b[0m\n\u001b[0;32m----> 1\u001b[0;31m \u001b[0mdata\u001b[0m\u001b[0;34m=\u001b[0m\u001b[0mpd\u001b[0m\u001b[0;34m.\u001b[0m\u001b[0mread\u001b[0m\u001b[0;34m.\u001b[0m\u001b[0mread_csv\u001b[0m\u001b[0;34m(\u001b[0m\u001b[0;34m)\u001b[0m\u001b[0;34m\u001b[0m\u001b[0;34m\u001b[0m\u001b[0m\n\u001b[0m",
      "\u001b[0;31mNameError\u001b[0m: name 'pd' is not defined"
     ]
    }
   ],
   "source": []
  },
  {
   "cell_type": "markdown",
   "metadata": {},
   "source": [
    "## Analisis de variables\n",
    "\n",
    "1. Haga un grafico de dispersion comparando **petal_length** y **petal_width**. Colorear cada punto de acuerdo a la especie, osea: **Iris-setosa**, **Iris-versicolor** o **Iris-virginica**. (Ayuda: `plot(kind='scatter', x=col1, y=col2, c=class, colormap='viridis')`. Recuerde que class debe ser numerico!).\n",
    "2. Idem anterior pero comparando **sepal_length** y **sepal_width**.\n",
    "3. Analice con boxplot cada columna del csv: **petal_length**, **petal_width**, **sepal_length** por especie y **sepal_width**. Existen outliers? (Ayuda: `boxplot(col, by=class)`).\n",
    "4. Si existen outliers, segun lo visto en el teorico, como podemos filtrarlos, proponga un metodo. (Opcional) Implemente el metodo.\n",
    "5. Prepare un histograma que muestre la cantidad datos para cada especie, nuestros datos estan balanceados? (Ayuda: `plot(kind='hist')`. Recuerde convertir los datos a algo numerico: `replace([c1, c2, c3], [v1, v2, v3])`).\n",
    "6. Elija un metodo para escalar los datos, analice y describa el resultado."
   ]
  },
  {
   "cell_type": "code",
   "execution_count": null,
   "metadata": {},
   "outputs": [],
   "source": []
  },
  {
   "cell_type": "markdown",
   "metadata": {},
   "source": [
    "## Analisis de imagen\n",
    "\n",
    "1. Elija y cargue dos imagenes a color, muestre las imagenes y sus histogramas.\n",
    "2. Compare ambos histogramas y saque conclusiones sobre lo que observa. (Ayuda: `cv2.calcHist` y `matplotlib.pyplot.plot(hist)`).\n",
    "3. Escale las imagenes usando **ZScore**, debe escalar cada canal por separado. Luego muestre el histograma obtenido y comparelo con el histograma de la imagen original. (Ayuda: `sklearn.preprocessing.scale` y `matplotlib.pyplot.plot(hist)`)."
   ]
  },
  {
   "cell_type": "code",
   "execution_count": null,
   "metadata": {},
   "outputs": [],
   "source": []
  }
 ],
 "metadata": {
  "kernelspec": {
   "display_name": "Python 3",
   "language": "python",
   "name": "python3"
  },
  "language_info": {
   "codemirror_mode": {
    "name": "ipython",
    "version": 3
   },
   "file_extension": ".py",
   "mimetype": "text/x-python",
   "name": "python",
   "nbconvert_exporter": "python",
   "pygments_lexer": "ipython3",
   "version": "3.6.7"
  }
 },
 "nbformat": 4,
 "nbformat_minor": 2
}
